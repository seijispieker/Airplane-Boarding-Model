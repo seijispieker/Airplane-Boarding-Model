{
 "cells": [
  {
   "cell_type": "code",
   "execution_count": 1,
   "metadata": {},
   "outputs": [],
   "source": [
    "import agentpy as ap\n",
    "import matplotlib.pyplot as plt\n",
    "from IPython.display import HTML\n",
    "\n",
    "from airplane_boarding_model.boarding_model import BoardingModel"
   ]
  },
  {
   "cell_type": "code",
   "execution_count": 2,
   "metadata": {},
   "outputs": [],
   "source": [
    "# Define parameters\n",
    "parameters = {\n",
    "    'rows': 30,\n",
    "    'columns': 7,\n",
    "    'aisle_column': 3,\n",
    "    'passenger_count': 180,\n",
    "    'boarding_rate': 2,\n",
    "    'steps': 200,\n",
    "}\n",
    "\n",
    "model = BoardingModel(parameters)"
   ]
  },
  {
   "cell_type": "code",
   "execution_count": null,
   "metadata": {},
   "outputs": [],
   "source": [
    "def animation_plot(model, ax):\n",
    "    ap.gridplot(\n",
    "        model.grid.attr_grid('id'),\n",
    "        ax=ax,\n",
    "    )\n",
    "    ax.set_title(f'Step {model.t}')\n",
    "    ax.set_xlabel(\"Seats\")\n",
    "    ax.set_ylabel(\"Rows\")\n",
    "\n",
    "fig, ax = plt.subplots()\n",
    "animation = ap.animate(model, fig, ax, animation_plot)\n",
    "HTML(animation.to_jshtml())\n"
   ]
  }
 ],
 "metadata": {
  "kernelspec": {
   "display_name": ".venv",
   "language": "python",
   "name": "python3"
  },
  "language_info": {
   "codemirror_mode": {
    "name": "ipython",
    "version": 3
   },
   "file_extension": ".py",
   "mimetype": "text/x-python",
   "name": "python",
   "nbconvert_exporter": "python",
   "pygments_lexer": "ipython3",
   "version": "3.12.8"
  }
 },
 "nbformat": 4,
 "nbformat_minor": 2
}
